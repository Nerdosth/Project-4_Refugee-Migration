{
 "cells": [
  {
   "cell_type": "code",
   "execution_count": 1,
   "metadata": {},
   "outputs": [],
   "source": [
    "import pandas as pd"
   ]
  },
  {
   "cell_type": "code",
   "execution_count": 4,
   "metadata": {},
   "outputs": [],
   "source": [
    "df1 = pd.read_csv('Resources/cleaned_asylum.csv')\n",
    "df2 = pd.read_csv('Resources/cleaned_conflict.csv')\n",
    "df3 = pd.read_csv('Resources/cleaned_demographics.csv')\n",
    "df4 = pd.read_csv('Resources/cleaned_disasters.csv')\n",
    "df5 = pd.read_csv('Resources/cleaned_population.csv')"
   ]
  },
  {
   "cell_type": "code",
   "execution_count": 11,
   "metadata": {},
   "outputs": [],
   "source": [
    "asylum_sample_sizes = df1.groupby('Year').size()\n",
    "conflict_sample_sizes = df2.groupby('Year').size()\n",
    "demographics_sample_sizes = df3.groupby('Year').size()\n",
    "disasters_sample_sizes = df4.groupby('Year').size()\n",
    "population_sample_sizes = df5.groupby('Year').size()"
   ]
  },
  {
   "cell_type": "code",
   "execution_count": 34,
   "metadata": {},
   "outputs": [],
   "source": [
    "n_samples = 85\n",
    "\n",
    "asylum_sample_df = pd.DataFrame()\n",
    "conflict_sample_df = pd.DataFrame()\n",
    "demographics_sample_df = pd.DataFrame()\n",
    "disasters_sample_df = pd.DataFrame()\n",
    "population_sample_df = pd.DataFrame()\n",
    "\n",
    "for year, group in df1.groupby('Year'):\n",
    "    sampled_group = group.sample(n=n_samples)\n",
    "    asylum_sample_df = pd.concat([asylum_sample_df, sampled_group], axis=0);\n",
    "\n",
    "for year, group in df2.groupby('Year'):\n",
    "    sampled_group = group.sample(n=n_samples)\n",
    "    conflict_sample_df = pd.concat([conflict_sample_df, sampled_group], axis=0);\n",
    "\n",
    "for year, group in df3.groupby('Year'):\n",
    "    sampled_group = group.sample(n=n_samples)\n",
    "    demographics_sample_df = pd.concat([demographics_sample_df, sampled_group], axis=0);\n",
    "\n",
    "for year, group in df4.groupby('Year'):\n",
    "    sampled_group = group.sample(n=n_samples)\n",
    "    disasters_sample_df = pd.concat([disasters_sample_df, sampled_group], axis=0);\n",
    "\n",
    "for year, group in df5.groupby('Year'):\n",
    "    sampled_group = group.sample(n=n_samples)\n",
    "    population_sample_df = pd.concat([population_sample_df, sampled_group], axis=0);"
   ]
  },
  {
   "cell_type": "code",
   "execution_count": 45,
   "metadata": {},
   "outputs": [
    {
     "name": "stdout",
     "output_type": "stream",
     "text": [
      "(1785, 10) (1785, 10) (1785, 19) (1785, 13) (1785, 5)\n"
     ]
    }
   ],
   "source": [
    "print(asylum_sample_df.shape,conflict_sample_df.shape,demographics_sample_df.shape,disasters_sample_df.shape,population_sample_df.shape)"
   ]
  },
  {
   "cell_type": "code",
   "execution_count": null,
   "metadata": {},
   "outputs": [],
   "source": [
    "asylum_sample_df.to_csv('Resources/asylum_sample_df.csv')\n",
    "conflict_sample_df.to_csv('Resources/conflict_sample_df.csv')\n",
    "demographics_sample_df.to_csv('Resources/demographics_sample_df.csv')\n",
    "disasters_sample_df.to_csv('Resources/disasters_sample_df.csv')\n",
    "population_sample_df.to_csv('Resources/population_sample_df.csv')"
   ]
  }
 ],
 "metadata": {
  "kernelspec": {
   "display_name": "PythonDataOne",
   "language": "python",
   "name": "python3"
  },
  "language_info": {
   "codemirror_mode": {
    "name": "ipython",
    "version": 3
   },
   "file_extension": ".py",
   "mimetype": "text/x-python",
   "name": "python",
   "nbconvert_exporter": "python",
   "pygments_lexer": "ipython3",
   "version": "3.7.7"
  },
  "orig_nbformat": 4,
  "vscode": {
   "interpreter": {
    "hash": "ec774b470c5fe9e64d857c15c900fa4c7894f69b8ed6dc13344c7115ac1acd43"
   }
  }
 },
 "nbformat": 4,
 "nbformat_minor": 2
}
